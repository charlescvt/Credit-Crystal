{
 "cells": [
  {
   "cell_type": "markdown",
   "id": "1d1ddc4c-8ed1-41f0-9408-0903b1275410",
   "metadata": {},
   "source": [
    "---"
   ]
  },
  {
   "cell_type": "markdown",
   "id": "6988db9f",
   "metadata": {},
   "source": [
    "# Credit Default Prediction Project"
   ]
  },
  {
   "cell_type": "markdown",
   "id": "9b0fe838-0799-407b-8149-10a8b889125d",
   "metadata": {},
   "source": [
    "---"
   ]
  },
  {
   "cell_type": "markdown",
   "id": "551809ff-e9f8-42b6-a1e7-e296e844f561",
   "metadata": {},
   "source": [
    "## Introduction\n",
    "In this notebook, we will work with bank customer data to predict credit default using both simple data science tools and more complex machine learning models. <br>\n",
    "The data contains *various features ranging from client profile to payment history* and then a binary target column reporting whether or not the client defaulted. <br>\n",
    "We will go about analyzing the data in the following order:\n",
    "1. Customary library and data import followed by basic dataset information.\n",
    "2. Cleaning the data and modifying some features to **improve their interpretability** and facilitate later steps.\n",
    "3. Finding some **early insights about the data** with plots and engineered features that provide more info on the dataset.\n",
    "4. Creating some machine learning models to **run regressions of the data on the target variable** and understand each feature's impact on the risk of default."
   ]
  },
  {
   "cell_type": "markdown",
   "id": "4ab09533-3034-4787-aaa6-0baf80086493",
   "metadata": {},
   "source": [
    "## 1. Imports and dataset summaries"
   ]
  },
  {
   "cell_type": "code",
   "execution_count": 1,
   "id": "a6497107",
   "metadata": {
    "scrolled": true
   },
   "outputs": [],
   "source": [
    "# importing libraries\n",
    "\n",
    "from sklearn.model_selection import learning_curve, train_test_split, cross_validate\n",
    "from sklearn.metrics import accuracy_score, precision_score, recall_score, confusion_matrix, precision_recall_curve\n",
    "from sklearn.preprocessing import RobustScaler, StandardScaler\n",
    "from sklearn.linear_model import LogisticRegression\n",
    "from sklearn.preprocessing import OneHotEncoder\n",
    "\n",
    "import tensorflow as tf\n",
    "from tensorflow.keras.layers import Embedding, Dense, LSTM, Dropout\n",
    "from tensorflow.keras.models import Sequential\n",
    "from tensorflow.keras.callbacks import EarlyStopping\n",
    "from tensorflow.keras.metrics import Precision, Recall, Accuracy, AUC\n",
    "\n",
    "import statsmodels.formula.api as smf\n",
    "\n",
    "from imblearn.over_sampling import SMOTE\n",
    "\n",
    "import matplotlib.pyplot as plt\n",
    "import matplotlib.gridspec as gridspec\n",
    "import numpy as np\n",
    "import pandas as pd\n",
    "import seaborn as sns\n",
    "\n"
   ]
  },
  {
   "cell_type": "code",
   "execution_count": 2,
   "id": "28b71851",
   "metadata": {},
   "outputs": [],
   "source": [
    "import warnings\n",
    "warnings.filterwarnings(\"ignore\")"
   ]
  },
  {
   "cell_type": "code",
   "execution_count": 3,
   "id": "483838be",
   "metadata": {},
   "outputs": [
    {
     "name": "stdout",
     "output_type": "stream",
     "text": [
      "/Users/charleschaverot/Desktop/Coding/Learning/Other Projects/Real Estate Project\n"
     ]
    }
   ],
   "source": [
    "!pwd"
   ]
  },
  {
   "cell_type": "code",
   "execution_count": 4,
   "id": "8b402aab",
   "metadata": {},
   "outputs": [
    {
     "data": {
      "text/html": [
       "<div>\n",
       "<style scoped>\n",
       "    .dataframe tbody tr th:only-of-type {\n",
       "        vertical-align: middle;\n",
       "    }\n",
       "\n",
       "    .dataframe tbody tr th {\n",
       "        vertical-align: top;\n",
       "    }\n",
       "\n",
       "    .dataframe thead th {\n",
       "        text-align: right;\n",
       "    }\n",
       "</style>\n",
       "<table border=\"1\" class=\"dataframe\">\n",
       "  <thead>\n",
       "    <tr style=\"text-align: right;\">\n",
       "      <th></th>\n",
       "      <th>ID</th>\n",
       "      <th>LIMIT_BAL</th>\n",
       "      <th>SEX</th>\n",
       "      <th>EDUCATION</th>\n",
       "      <th>MARRIAGE</th>\n",
       "      <th>AGE</th>\n",
       "      <th>PAY_0</th>\n",
       "      <th>PAY_2</th>\n",
       "      <th>PAY_3</th>\n",
       "      <th>PAY_4</th>\n",
       "      <th>...</th>\n",
       "      <th>BILL_AMT4</th>\n",
       "      <th>BILL_AMT5</th>\n",
       "      <th>BILL_AMT6</th>\n",
       "      <th>PAY_AMT1</th>\n",
       "      <th>PAY_AMT2</th>\n",
       "      <th>PAY_AMT3</th>\n",
       "      <th>PAY_AMT4</th>\n",
       "      <th>PAY_AMT5</th>\n",
       "      <th>PAY_AMT6</th>\n",
       "      <th>default.payment.next.month</th>\n",
       "    </tr>\n",
       "  </thead>\n",
       "  <tbody>\n",
       "    <tr>\n",
       "      <th>0</th>\n",
       "      <td>1</td>\n",
       "      <td>20000.0</td>\n",
       "      <td>2</td>\n",
       "      <td>2</td>\n",
       "      <td>1</td>\n",
       "      <td>24</td>\n",
       "      <td>2</td>\n",
       "      <td>2</td>\n",
       "      <td>-1</td>\n",
       "      <td>-1</td>\n",
       "      <td>...</td>\n",
       "      <td>0.0</td>\n",
       "      <td>0.0</td>\n",
       "      <td>0.0</td>\n",
       "      <td>0.0</td>\n",
       "      <td>689.0</td>\n",
       "      <td>0.0</td>\n",
       "      <td>0.0</td>\n",
       "      <td>0.0</td>\n",
       "      <td>0.0</td>\n",
       "      <td>1</td>\n",
       "    </tr>\n",
       "    <tr>\n",
       "      <th>1</th>\n",
       "      <td>2</td>\n",
       "      <td>120000.0</td>\n",
       "      <td>2</td>\n",
       "      <td>2</td>\n",
       "      <td>2</td>\n",
       "      <td>26</td>\n",
       "      <td>-1</td>\n",
       "      <td>2</td>\n",
       "      <td>0</td>\n",
       "      <td>0</td>\n",
       "      <td>...</td>\n",
       "      <td>3272.0</td>\n",
       "      <td>3455.0</td>\n",
       "      <td>3261.0</td>\n",
       "      <td>0.0</td>\n",
       "      <td>1000.0</td>\n",
       "      <td>1000.0</td>\n",
       "      <td>1000.0</td>\n",
       "      <td>0.0</td>\n",
       "      <td>2000.0</td>\n",
       "      <td>1</td>\n",
       "    </tr>\n",
       "    <tr>\n",
       "      <th>2</th>\n",
       "      <td>3</td>\n",
       "      <td>90000.0</td>\n",
       "      <td>2</td>\n",
       "      <td>2</td>\n",
       "      <td>2</td>\n",
       "      <td>34</td>\n",
       "      <td>0</td>\n",
       "      <td>0</td>\n",
       "      <td>0</td>\n",
       "      <td>0</td>\n",
       "      <td>...</td>\n",
       "      <td>14331.0</td>\n",
       "      <td>14948.0</td>\n",
       "      <td>15549.0</td>\n",
       "      <td>1518.0</td>\n",
       "      <td>1500.0</td>\n",
       "      <td>1000.0</td>\n",
       "      <td>1000.0</td>\n",
       "      <td>1000.0</td>\n",
       "      <td>5000.0</td>\n",
       "      <td>0</td>\n",
       "    </tr>\n",
       "    <tr>\n",
       "      <th>3</th>\n",
       "      <td>4</td>\n",
       "      <td>50000.0</td>\n",
       "      <td>2</td>\n",
       "      <td>2</td>\n",
       "      <td>1</td>\n",
       "      <td>37</td>\n",
       "      <td>0</td>\n",
       "      <td>0</td>\n",
       "      <td>0</td>\n",
       "      <td>0</td>\n",
       "      <td>...</td>\n",
       "      <td>28314.0</td>\n",
       "      <td>28959.0</td>\n",
       "      <td>29547.0</td>\n",
       "      <td>2000.0</td>\n",
       "      <td>2019.0</td>\n",
       "      <td>1200.0</td>\n",
       "      <td>1100.0</td>\n",
       "      <td>1069.0</td>\n",
       "      <td>1000.0</td>\n",
       "      <td>0</td>\n",
       "    </tr>\n",
       "    <tr>\n",
       "      <th>4</th>\n",
       "      <td>5</td>\n",
       "      <td>50000.0</td>\n",
       "      <td>1</td>\n",
       "      <td>2</td>\n",
       "      <td>1</td>\n",
       "      <td>57</td>\n",
       "      <td>-1</td>\n",
       "      <td>0</td>\n",
       "      <td>-1</td>\n",
       "      <td>0</td>\n",
       "      <td>...</td>\n",
       "      <td>20940.0</td>\n",
       "      <td>19146.0</td>\n",
       "      <td>19131.0</td>\n",
       "      <td>2000.0</td>\n",
       "      <td>36681.0</td>\n",
       "      <td>10000.0</td>\n",
       "      <td>9000.0</td>\n",
       "      <td>689.0</td>\n",
       "      <td>679.0</td>\n",
       "      <td>0</td>\n",
       "    </tr>\n",
       "  </tbody>\n",
       "</table>\n",
       "<p>5 rows × 25 columns</p>\n",
       "</div>"
      ],
      "text/plain": [
       "   ID  LIMIT_BAL  SEX  EDUCATION  MARRIAGE  AGE  PAY_0  PAY_2  PAY_3  PAY_4  \\\n",
       "0   1    20000.0    2          2         1   24      2      2     -1     -1   \n",
       "1   2   120000.0    2          2         2   26     -1      2      0      0   \n",
       "2   3    90000.0    2          2         2   34      0      0      0      0   \n",
       "3   4    50000.0    2          2         1   37      0      0      0      0   \n",
       "4   5    50000.0    1          2         1   57     -1      0     -1      0   \n",
       "\n",
       "   ...  BILL_AMT4  BILL_AMT5  BILL_AMT6  PAY_AMT1  PAY_AMT2  PAY_AMT3  \\\n",
       "0  ...        0.0        0.0        0.0       0.0     689.0       0.0   \n",
       "1  ...     3272.0     3455.0     3261.0       0.0    1000.0    1000.0   \n",
       "2  ...    14331.0    14948.0    15549.0    1518.0    1500.0    1000.0   \n",
       "3  ...    28314.0    28959.0    29547.0    2000.0    2019.0    1200.0   \n",
       "4  ...    20940.0    19146.0    19131.0    2000.0   36681.0   10000.0   \n",
       "\n",
       "   PAY_AMT4  PAY_AMT5  PAY_AMT6  default.payment.next.month  \n",
       "0       0.0       0.0       0.0                           1  \n",
       "1    1000.0       0.0    2000.0                           1  \n",
       "2    1000.0    1000.0    5000.0                           0  \n",
       "3    1100.0    1069.0    1000.0                           0  \n",
       "4    9000.0     689.0     679.0                           0  \n",
       "\n",
       "[5 rows x 25 columns]"
      ]
     },
     "execution_count": 4,
     "metadata": {},
     "output_type": "execute_result"
    }
   ],
   "source": [
    "# importing data\n",
    "\n",
    "data = pd.read_csv('data/credit_card.csv')\n",
    "data.head()"
   ]
  },
  {
   "cell_type": "code",
   "execution_count": 5,
   "id": "9a58091c-7284-4549-8097-2cac9cfa39ca",
   "metadata": {
    "tags": []
   },
   "outputs": [
    {
     "name": "stdout",
     "output_type": "stream",
     "text": [
      "<class 'pandas.core.frame.DataFrame'>\n",
      "RangeIndex: 30000 entries, 0 to 29999\n",
      "Data columns (total 25 columns):\n",
      " #   Column                      Non-Null Count  Dtype  \n",
      "---  ------                      --------------  -----  \n",
      " 0   ID                          30000 non-null  int64  \n",
      " 1   LIMIT_BAL                   30000 non-null  float64\n",
      " 2   SEX                         30000 non-null  int64  \n",
      " 3   EDUCATION                   30000 non-null  int64  \n",
      " 4   MARRIAGE                    30000 non-null  int64  \n",
      " 5   AGE                         30000 non-null  int64  \n",
      " 6   PAY_0                       30000 non-null  int64  \n",
      " 7   PAY_2                       30000 non-null  int64  \n",
      " 8   PAY_3                       30000 non-null  int64  \n",
      " 9   PAY_4                       30000 non-null  int64  \n",
      " 10  PAY_5                       30000 non-null  int64  \n",
      " 11  PAY_6                       30000 non-null  int64  \n",
      " 12  BILL_AMT1                   30000 non-null  float64\n",
      " 13  BILL_AMT2                   30000 non-null  float64\n",
      " 14  BILL_AMT3                   30000 non-null  float64\n",
      " 15  BILL_AMT4                   30000 non-null  float64\n",
      " 16  BILL_AMT5                   30000 non-null  float64\n",
      " 17  BILL_AMT6                   30000 non-null  float64\n",
      " 18  PAY_AMT1                    30000 non-null  float64\n",
      " 19  PAY_AMT2                    30000 non-null  float64\n",
      " 20  PAY_AMT3                    30000 non-null  float64\n",
      " 21  PAY_AMT4                    30000 non-null  float64\n",
      " 22  PAY_AMT5                    30000 non-null  float64\n",
      " 23  PAY_AMT6                    30000 non-null  float64\n",
      " 24  default.payment.next.month  30000 non-null  int64  \n",
      "dtypes: float64(13), int64(12)\n",
      "memory usage: 5.7 MB\n"
     ]
    }
   ],
   "source": [
    "# 1. No nulls to deal with\n",
    "# 2. All values are numeric so no need to encode categorical information\n",
    "data.info()"
   ]
  },
  {
   "cell_type": "code",
   "execution_count": 6,
   "id": "662d054d-6286-4560-a7ad-a7b074ec49f2",
   "metadata": {
    "tags": []
   },
   "outputs": [
    {
     "data": {
      "text/plain": [
       "ID                            30000\n",
       "LIMIT_BAL                        81\n",
       "SEX                               2\n",
       "EDUCATION                         7\n",
       "MARRIAGE                          4\n",
       "AGE                              56\n",
       "PAY_0                            11\n",
       "PAY_2                            11\n",
       "PAY_3                            11\n",
       "PAY_4                            11\n",
       "PAY_5                            10\n",
       "PAY_6                            10\n",
       "BILL_AMT1                     22723\n",
       "BILL_AMT2                     22346\n",
       "BILL_AMT3                     22026\n",
       "BILL_AMT4                     21548\n",
       "BILL_AMT5                     21010\n",
       "BILL_AMT6                     20604\n",
       "PAY_AMT1                       7943\n",
       "PAY_AMT2                       7899\n",
       "PAY_AMT3                       7518\n",
       "PAY_AMT4                       6937\n",
       "PAY_AMT5                       6897\n",
       "PAY_AMT6                       6939\n",
       "default.payment.next.month        2\n",
       "dtype: int64"
      ]
     },
     "execution_count": 6,
     "metadata": {},
     "output_type": "execute_result"
    }
   ],
   "source": [
    "data.nunique()"
   ]
  },
  {
   "cell_type": "markdown",
   "id": "b8c16469",
   "metadata": {},
   "source": [
    "## 2. Data Preprocessing"
   ]
  },
  {
   "cell_type": "markdown",
   "id": "92ee4c0b-118f-4322-af18-3a7479060635",
   "metadata": {},
   "source": [
    "First, we get rid of rows of the dataset where education level and marital status are unknown."
   ]
  },
  {
   "cell_type": "code",
   "execution_count": 7,
   "id": "79281588",
   "metadata": {},
   "outputs": [
    {
     "data": {
      "text/html": [
       "<div>\n",
       "<style scoped>\n",
       "    .dataframe tbody tr th:only-of-type {\n",
       "        vertical-align: middle;\n",
       "    }\n",
       "\n",
       "    .dataframe tbody tr th {\n",
       "        vertical-align: top;\n",
       "    }\n",
       "\n",
       "    .dataframe thead th {\n",
       "        text-align: right;\n",
       "    }\n",
       "</style>\n",
       "<table border=\"1\" class=\"dataframe\">\n",
       "  <thead>\n",
       "    <tr style=\"text-align: right;\">\n",
       "      <th></th>\n",
       "      <th>ID</th>\n",
       "      <th>LIMIT_BAL</th>\n",
       "      <th>SEX</th>\n",
       "      <th>EDUCATION</th>\n",
       "      <th>MARRIAGE</th>\n",
       "      <th>AGE</th>\n",
       "      <th>PAY_0</th>\n",
       "      <th>PAY_2</th>\n",
       "      <th>PAY_3</th>\n",
       "      <th>PAY_4</th>\n",
       "      <th>...</th>\n",
       "      <th>BILL_AMT4</th>\n",
       "      <th>BILL_AMT5</th>\n",
       "      <th>BILL_AMT6</th>\n",
       "      <th>PAY_AMT1</th>\n",
       "      <th>PAY_AMT2</th>\n",
       "      <th>PAY_AMT3</th>\n",
       "      <th>PAY_AMT4</th>\n",
       "      <th>PAY_AMT5</th>\n",
       "      <th>PAY_AMT6</th>\n",
       "      <th>default.payment.next.month</th>\n",
       "    </tr>\n",
       "  </thead>\n",
       "  <tbody>\n",
       "    <tr>\n",
       "      <th>0</th>\n",
       "      <td>1</td>\n",
       "      <td>20000.0</td>\n",
       "      <td>2</td>\n",
       "      <td>2</td>\n",
       "      <td>1</td>\n",
       "      <td>24</td>\n",
       "      <td>2</td>\n",
       "      <td>2</td>\n",
       "      <td>-1</td>\n",
       "      <td>-1</td>\n",
       "      <td>...</td>\n",
       "      <td>0.0</td>\n",
       "      <td>0.0</td>\n",
       "      <td>0.0</td>\n",
       "      <td>0.0</td>\n",
       "      <td>689.0</td>\n",
       "      <td>0.0</td>\n",
       "      <td>0.0</td>\n",
       "      <td>0.0</td>\n",
       "      <td>0.0</td>\n",
       "      <td>1</td>\n",
       "    </tr>\n",
       "    <tr>\n",
       "      <th>1</th>\n",
       "      <td>2</td>\n",
       "      <td>120000.0</td>\n",
       "      <td>2</td>\n",
       "      <td>2</td>\n",
       "      <td>2</td>\n",
       "      <td>26</td>\n",
       "      <td>-1</td>\n",
       "      <td>2</td>\n",
       "      <td>0</td>\n",
       "      <td>0</td>\n",
       "      <td>...</td>\n",
       "      <td>3272.0</td>\n",
       "      <td>3455.0</td>\n",
       "      <td>3261.0</td>\n",
       "      <td>0.0</td>\n",
       "      <td>1000.0</td>\n",
       "      <td>1000.0</td>\n",
       "      <td>1000.0</td>\n",
       "      <td>0.0</td>\n",
       "      <td>2000.0</td>\n",
       "      <td>1</td>\n",
       "    </tr>\n",
       "    <tr>\n",
       "      <th>2</th>\n",
       "      <td>3</td>\n",
       "      <td>90000.0</td>\n",
       "      <td>2</td>\n",
       "      <td>2</td>\n",
       "      <td>2</td>\n",
       "      <td>34</td>\n",
       "      <td>0</td>\n",
       "      <td>0</td>\n",
       "      <td>0</td>\n",
       "      <td>0</td>\n",
       "      <td>...</td>\n",
       "      <td>14331.0</td>\n",
       "      <td>14948.0</td>\n",
       "      <td>15549.0</td>\n",
       "      <td>1518.0</td>\n",
       "      <td>1500.0</td>\n",
       "      <td>1000.0</td>\n",
       "      <td>1000.0</td>\n",
       "      <td>1000.0</td>\n",
       "      <td>5000.0</td>\n",
       "      <td>0</td>\n",
       "    </tr>\n",
       "    <tr>\n",
       "      <th>3</th>\n",
       "      <td>4</td>\n",
       "      <td>50000.0</td>\n",
       "      <td>2</td>\n",
       "      <td>2</td>\n",
       "      <td>1</td>\n",
       "      <td>37</td>\n",
       "      <td>0</td>\n",
       "      <td>0</td>\n",
       "      <td>0</td>\n",
       "      <td>0</td>\n",
       "      <td>...</td>\n",
       "      <td>28314.0</td>\n",
       "      <td>28959.0</td>\n",
       "      <td>29547.0</td>\n",
       "      <td>2000.0</td>\n",
       "      <td>2019.0</td>\n",
       "      <td>1200.0</td>\n",
       "      <td>1100.0</td>\n",
       "      <td>1069.0</td>\n",
       "      <td>1000.0</td>\n",
       "      <td>0</td>\n",
       "    </tr>\n",
       "    <tr>\n",
       "      <th>4</th>\n",
       "      <td>5</td>\n",
       "      <td>50000.0</td>\n",
       "      <td>1</td>\n",
       "      <td>2</td>\n",
       "      <td>1</td>\n",
       "      <td>57</td>\n",
       "      <td>-1</td>\n",
       "      <td>0</td>\n",
       "      <td>-1</td>\n",
       "      <td>0</td>\n",
       "      <td>...</td>\n",
       "      <td>20940.0</td>\n",
       "      <td>19146.0</td>\n",
       "      <td>19131.0</td>\n",
       "      <td>2000.0</td>\n",
       "      <td>36681.0</td>\n",
       "      <td>10000.0</td>\n",
       "      <td>9000.0</td>\n",
       "      <td>689.0</td>\n",
       "      <td>679.0</td>\n",
       "      <td>0</td>\n",
       "    </tr>\n",
       "  </tbody>\n",
       "</table>\n",
       "<p>5 rows × 25 columns</p>\n",
       "</div>"
      ],
      "text/plain": [
       "   ID  LIMIT_BAL  SEX  EDUCATION  MARRIAGE  AGE  PAY_0  PAY_2  PAY_3  PAY_4  \\\n",
       "0   1    20000.0    2          2         1   24      2      2     -1     -1   \n",
       "1   2   120000.0    2          2         2   26     -1      2      0      0   \n",
       "2   3    90000.0    2          2         2   34      0      0      0      0   \n",
       "3   4    50000.0    2          2         1   37      0      0      0      0   \n",
       "4   5    50000.0    1          2         1   57     -1      0     -1      0   \n",
       "\n",
       "   ...  BILL_AMT4  BILL_AMT5  BILL_AMT6  PAY_AMT1  PAY_AMT2  PAY_AMT3  \\\n",
       "0  ...        0.0        0.0        0.0       0.0     689.0       0.0   \n",
       "1  ...     3272.0     3455.0     3261.0       0.0    1000.0    1000.0   \n",
       "2  ...    14331.0    14948.0    15549.0    1518.0    1500.0    1000.0   \n",
       "3  ...    28314.0    28959.0    29547.0    2000.0    2019.0    1200.0   \n",
       "4  ...    20940.0    19146.0    19131.0    2000.0   36681.0   10000.0   \n",
       "\n",
       "   PAY_AMT4  PAY_AMT5  PAY_AMT6  default.payment.next.month  \n",
       "0       0.0       0.0       0.0                           1  \n",
       "1    1000.0       0.0    2000.0                           1  \n",
       "2    1000.0    1000.0    5000.0                           0  \n",
       "3    1100.0    1069.0    1000.0                           0  \n",
       "4    9000.0     689.0     679.0                           0  \n",
       "\n",
       "[5 rows x 25 columns]"
      ]
     },
     "execution_count": 7,
     "metadata": {},
     "output_type": "execute_result"
    }
   ],
   "source": [
    "data = data[data['EDUCATION'].between(1,3)]\n",
    "data = data[data['MARRIAGE'].between(1,2)]\n",
    "data.head()"
   ]
  },
  {
   "cell_type": "code",
   "execution_count": 8,
   "id": "0116e0fb",
   "metadata": {},
   "outputs": [
    {
     "data": {
      "text/plain": [
       "Index(['ID', 'LIMIT_BAL', 'SEX', 'EDUCATION', 'MARRIAGE', 'AGE', 'PAY_0',\n",
       "       'PAY_2', 'PAY_3', 'PAY_4', 'PAY_5', 'PAY_6', 'BILL_AMT1', 'BILL_AMT2',\n",
       "       'BILL_AMT3', 'BILL_AMT4', 'BILL_AMT5', 'BILL_AMT6', 'PAY_AMT1',\n",
       "       'PAY_AMT2', 'PAY_AMT3', 'PAY_AMT4', 'PAY_AMT5', 'PAY_AMT6',\n",
       "       'default.payment.next.month'],\n",
       "      dtype='object')"
      ]
     },
     "execution_count": 8,
     "metadata": {},
     "output_type": "execute_result"
    }
   ],
   "source": [
    "data.columns"
   ]
  },
  {
   "cell_type": "markdown",
   "id": "9aea99fc-a1c1-4ad7-8641-522b3114481d",
   "metadata": {},
   "source": [
    "Second, we \"one-hot encode\" the education feature, separating it into three binary features which will be easier to read for our model."
   ]
  },
  {
   "cell_type": "code",
   "execution_count": 9,
   "id": "92640b8d",
   "metadata": {},
   "outputs": [
    {
     "name": "stdout",
     "output_type": "stream",
     "text": [
      "[1 2 3]\n"
     ]
    }
   ],
   "source": [
    "print((data.sort_values('EDUCATION'))['EDUCATION'].unique())\n",
    "\n",
    "ohe = OneHotEncoder(sparse = False)    # Do not give results as a sparse matrix, easier to work with\n",
    "\n",
    "ohe.fit(data[['EDUCATION']])\n",
    "education_encoded = ohe.transform(data[['EDUCATION']])\n",
    "data[['grad_school', 'university', 'high_school']] = education_encoded\n",
    "data = data.drop(columns='EDUCATION')"
   ]
  },
  {
   "cell_type": "markdown",
   "id": "0945b0d8-cbe5-4a91-afd2-494e99736d1f",
   "metadata": {},
   "source": [
    "We also reformat SEX and MARRIAGE columns into binary features and drop the old ones."
   ]
  },
  {
   "cell_type": "code",
   "execution_count": 10,
   "id": "35619885",
   "metadata": {},
   "outputs": [],
   "source": [
    "data['male'] = (data['SEX']==1).astype('int')\n",
    "data['married'] = (data['MARRIAGE']==1).astype('int')\n",
    "data = data.drop(columns = ['MARRIAGE', 'SEX'])"
   ]
  },
  {
   "cell_type": "markdown",
   "id": "e92d7670-d62a-43fc-b6f9-7f41eb46684a",
   "metadata": {},
   "source": [
    "We make all column names lower-case for readibility."
   ]
  },
  {
   "cell_type": "code",
   "execution_count": 11,
   "id": "37667c73",
   "metadata": {},
   "outputs": [],
   "source": [
    "data.columns = [x.lower() for x in ['ID', 'LIMIT_BAL', 'AGE', 'PAY_0', 'PAY_2', 'PAY_3', 'PAY_4', 'PAY_5',\n",
    "       'PAY_6', 'BILL_AMT1', 'BILL_AMT2', 'BILL_AMT3', 'BILL_AMT4',\n",
    "       'BILL_AMT5', 'BILL_AMT6', 'PAY_AMT1', 'PAY_AMT2', 'PAY_AMT3',\n",
    "       'PAY_AMT4', 'PAY_AMT5', 'PAY_AMT6', 'default',\n",
    "       'grad_school', 'university', 'high_school', 'male', 'married']]"
   ]
  },
  {
   "cell_type": "markdown",
   "id": "5def1103-97a7-464f-b497-d3b248f60f50",
   "metadata": {},
   "source": [
    "Columns are reorganized to bring our new engineered features to the forefront."
   ]
  },
  {
   "cell_type": "code",
   "execution_count": 12,
   "id": "9409f725",
   "metadata": {},
   "outputs": [],
   "source": [
    "data = data[['limit_bal', 'age', 'male', 'married', 'grad_school',\n",
    "       'university', 'high_school', 'pay_0', 'pay_2', 'pay_3', 'pay_4', 'pay_5',\n",
    "       'pay_6', 'bill_amt1', 'bill_amt2', 'bill_amt3', 'bill_amt4',\n",
    "       'bill_amt5', 'bill_amt6', 'pay_amt1', 'pay_amt2', 'pay_amt3',\n",
    "       'pay_amt4', 'pay_amt5', 'pay_amt6', 'default']]"
   ]
  },
  {
   "cell_type": "markdown",
   "id": "e2143dfc-cb3d-4517-a9d2-e5cc6eb73cde",
   "metadata": {},
   "source": [
    "Duly paid values are set to zero."
   ]
  },
  {
   "cell_type": "code",
   "execution_count": 13,
   "id": "cb8b0740",
   "metadata": {},
   "outputs": [],
   "source": [
    "pays = ['pay_0','pay_2','pay_3','pay_4','pay_5','pay_6']\n",
    "\n",
    "for p in pays:\n",
    "    data.loc[data[p]<=0, p] = 0"
   ]
  },
  {
   "cell_type": "code",
   "execution_count": 14,
   "id": "00af3233",
   "metadata": {},
   "outputs": [
    {
     "data": {
      "text/html": [
       "<div>\n",
       "<style scoped>\n",
       "    .dataframe tbody tr th:only-of-type {\n",
       "        vertical-align: middle;\n",
       "    }\n",
       "\n",
       "    .dataframe tbody tr th {\n",
       "        vertical-align: top;\n",
       "    }\n",
       "\n",
       "    .dataframe thead th {\n",
       "        text-align: right;\n",
       "    }\n",
       "</style>\n",
       "<table border=\"1\" class=\"dataframe\">\n",
       "  <thead>\n",
       "    <tr style=\"text-align: right;\">\n",
       "      <th></th>\n",
       "      <th>limit_bal</th>\n",
       "      <th>age</th>\n",
       "      <th>male</th>\n",
       "      <th>married</th>\n",
       "      <th>grad_school</th>\n",
       "      <th>university</th>\n",
       "      <th>high_school</th>\n",
       "      <th>pay_0</th>\n",
       "      <th>pay_2</th>\n",
       "      <th>pay_3</th>\n",
       "      <th>...</th>\n",
       "      <th>bill_amt4</th>\n",
       "      <th>bill_amt5</th>\n",
       "      <th>bill_amt6</th>\n",
       "      <th>pay_amt1</th>\n",
       "      <th>pay_amt2</th>\n",
       "      <th>pay_amt3</th>\n",
       "      <th>pay_amt4</th>\n",
       "      <th>pay_amt5</th>\n",
       "      <th>pay_amt6</th>\n",
       "      <th>default</th>\n",
       "    </tr>\n",
       "  </thead>\n",
       "  <tbody>\n",
       "    <tr>\n",
       "      <th>0</th>\n",
       "      <td>20000.0</td>\n",
       "      <td>24</td>\n",
       "      <td>0</td>\n",
       "      <td>1</td>\n",
       "      <td>0.0</td>\n",
       "      <td>1.0</td>\n",
       "      <td>0.0</td>\n",
       "      <td>2</td>\n",
       "      <td>2</td>\n",
       "      <td>0</td>\n",
       "      <td>...</td>\n",
       "      <td>0.0</td>\n",
       "      <td>0.0</td>\n",
       "      <td>0.0</td>\n",
       "      <td>0.0</td>\n",
       "      <td>689.0</td>\n",
       "      <td>0.0</td>\n",
       "      <td>0.0</td>\n",
       "      <td>0.0</td>\n",
       "      <td>0.0</td>\n",
       "      <td>1</td>\n",
       "    </tr>\n",
       "    <tr>\n",
       "      <th>1</th>\n",
       "      <td>120000.0</td>\n",
       "      <td>26</td>\n",
       "      <td>0</td>\n",
       "      <td>0</td>\n",
       "      <td>0.0</td>\n",
       "      <td>1.0</td>\n",
       "      <td>0.0</td>\n",
       "      <td>0</td>\n",
       "      <td>2</td>\n",
       "      <td>0</td>\n",
       "      <td>...</td>\n",
       "      <td>3272.0</td>\n",
       "      <td>3455.0</td>\n",
       "      <td>3261.0</td>\n",
       "      <td>0.0</td>\n",
       "      <td>1000.0</td>\n",
       "      <td>1000.0</td>\n",
       "      <td>1000.0</td>\n",
       "      <td>0.0</td>\n",
       "      <td>2000.0</td>\n",
       "      <td>1</td>\n",
       "    </tr>\n",
       "    <tr>\n",
       "      <th>2</th>\n",
       "      <td>90000.0</td>\n",
       "      <td>34</td>\n",
       "      <td>0</td>\n",
       "      <td>0</td>\n",
       "      <td>0.0</td>\n",
       "      <td>1.0</td>\n",
       "      <td>0.0</td>\n",
       "      <td>0</td>\n",
       "      <td>0</td>\n",
       "      <td>0</td>\n",
       "      <td>...</td>\n",
       "      <td>14331.0</td>\n",
       "      <td>14948.0</td>\n",
       "      <td>15549.0</td>\n",
       "      <td>1518.0</td>\n",
       "      <td>1500.0</td>\n",
       "      <td>1000.0</td>\n",
       "      <td>1000.0</td>\n",
       "      <td>1000.0</td>\n",
       "      <td>5000.0</td>\n",
       "      <td>0</td>\n",
       "    </tr>\n",
       "    <tr>\n",
       "      <th>3</th>\n",
       "      <td>50000.0</td>\n",
       "      <td>37</td>\n",
       "      <td>0</td>\n",
       "      <td>1</td>\n",
       "      <td>0.0</td>\n",
       "      <td>1.0</td>\n",
       "      <td>0.0</td>\n",
       "      <td>0</td>\n",
       "      <td>0</td>\n",
       "      <td>0</td>\n",
       "      <td>...</td>\n",
       "      <td>28314.0</td>\n",
       "      <td>28959.0</td>\n",
       "      <td>29547.0</td>\n",
       "      <td>2000.0</td>\n",
       "      <td>2019.0</td>\n",
       "      <td>1200.0</td>\n",
       "      <td>1100.0</td>\n",
       "      <td>1069.0</td>\n",
       "      <td>1000.0</td>\n",
       "      <td>0</td>\n",
       "    </tr>\n",
       "    <tr>\n",
       "      <th>4</th>\n",
       "      <td>50000.0</td>\n",
       "      <td>57</td>\n",
       "      <td>1</td>\n",
       "      <td>1</td>\n",
       "      <td>0.0</td>\n",
       "      <td>1.0</td>\n",
       "      <td>0.0</td>\n",
       "      <td>0</td>\n",
       "      <td>0</td>\n",
       "      <td>0</td>\n",
       "      <td>...</td>\n",
       "      <td>20940.0</td>\n",
       "      <td>19146.0</td>\n",
       "      <td>19131.0</td>\n",
       "      <td>2000.0</td>\n",
       "      <td>36681.0</td>\n",
       "      <td>10000.0</td>\n",
       "      <td>9000.0</td>\n",
       "      <td>689.0</td>\n",
       "      <td>679.0</td>\n",
       "      <td>0</td>\n",
       "    </tr>\n",
       "  </tbody>\n",
       "</table>\n",
       "<p>5 rows × 26 columns</p>\n",
       "</div>"
      ],
      "text/plain": [
       "   limit_bal  age  male  married  grad_school  university  high_school  pay_0  \\\n",
       "0    20000.0   24     0        1          0.0         1.0          0.0      2   \n",
       "1   120000.0   26     0        0          0.0         1.0          0.0      0   \n",
       "2    90000.0   34     0        0          0.0         1.0          0.0      0   \n",
       "3    50000.0   37     0        1          0.0         1.0          0.0      0   \n",
       "4    50000.0   57     1        1          0.0         1.0          0.0      0   \n",
       "\n",
       "   pay_2  pay_3  ...  bill_amt4  bill_amt5  bill_amt6  pay_amt1  pay_amt2  \\\n",
       "0      2      0  ...        0.0        0.0        0.0       0.0     689.0   \n",
       "1      2      0  ...     3272.0     3455.0     3261.0       0.0    1000.0   \n",
       "2      0      0  ...    14331.0    14948.0    15549.0    1518.0    1500.0   \n",
       "3      0      0  ...    28314.0    28959.0    29547.0    2000.0    2019.0   \n",
       "4      0      0  ...    20940.0    19146.0    19131.0    2000.0   36681.0   \n",
       "\n",
       "   pay_amt3  pay_amt4  pay_amt5  pay_amt6  default  \n",
       "0       0.0       0.0       0.0       0.0        1  \n",
       "1    1000.0    1000.0       0.0    2000.0        1  \n",
       "2    1000.0    1000.0    1000.0    5000.0        0  \n",
       "3    1200.0    1100.0    1069.0    1000.0        0  \n",
       "4   10000.0    9000.0     689.0     679.0        0  \n",
       "\n",
       "[5 rows x 26 columns]"
      ]
     },
     "execution_count": 14,
     "metadata": {},
     "output_type": "execute_result"
    }
   ],
   "source": [
    "data.head()"
   ]
  },
  {
   "cell_type": "markdown",
   "id": "dd9ed05b-7d52-44aa-8277-ac060a5a8120",
   "metadata": {},
   "source": [
    "In order to do statistical analysis, we must have a dataset with balanced amounts of 0 and 1 in the target variable. <br>\n",
    "Here, we check for this balance and the amount of each value's occurences in the target variable."
   ]
  },
  {
   "cell_type": "code",
   "execution_count": 15,
   "id": "0464cbc7",
   "metadata": {},
   "outputs": [
    {
     "data": {
      "text/plain": [
       "0    22649\n",
       "1     6514\n",
       "Name: default, dtype: int64"
      ]
     },
     "execution_count": 15,
     "metadata": {},
     "output_type": "execute_result"
    }
   ],
   "source": [
    "data.default.value_counts() # -> we have an unbalanced dataset \n",
    "# we will have to use SMOTE to oversample the 'default=1' class"
   ]
  },
  {
   "cell_type": "markdown",
   "id": "04ff58b4-5b99-40ec-88c9-f2694779404e",
   "metadata": {},
   "source": [
    "As we can see, we have a strongly imbalanced dataset. There are 22,659 rows of non-default for only 6,514 rows of default. <br>\n",
    "Thanks to the SMOTE function, we will be able to rebalance the dataset in order to have more meaningful findings. <br> <br>\n",
    "Careful though, rebalancing can only be done for the training set (part of the dataset used to train the models on) as we will need to test our model on untouched data."
   ]
  },
  {
   "cell_type": "code",
   "execution_count": 16,
   "id": "8450b481",
   "metadata": {},
   "outputs": [],
   "source": [
    "X = data.drop(columns='default')\n",
    "y = data['default']"
   ]
  },
  {
   "cell_type": "markdown",
   "id": "89036562-1300-45d7-8189-da545465b3c3",
   "metadata": {},
   "source": [
    "Here we separate dataset into train and test subsets (putting 70% of the dataset into the training set) before resampling the training set using SMOTE."
   ]
  },
  {
   "cell_type": "code",
   "execution_count": 17,
   "id": "75fc823f-95da-49ab-874a-94af38e58a7d",
   "metadata": {
    "tags": []
   },
   "outputs": [],
   "source": [
    "# scaling the data solves the vanishing gradient problem\n",
    "# by shrinking the interval of the values, we give more significance to the relationship between them\n",
    "st_scaler = StandardScaler()\n",
    "\n",
    "X = pd.DataFrame(st_scaler.fit_transform(X), columns=X.columns)"
   ]
  },
  {
   "cell_type": "code",
   "execution_count": 18,
   "id": "819a52f8",
   "metadata": {},
   "outputs": [],
   "source": [
    "X_t, X_test, y_t, y_test = train_test_split(X,y, test_size=0.3)\n",
    "\n",
    "X_train, y_train = SMOTE().fit_resample(X_t, y_t)"
   ]
  },
  {
   "cell_type": "code",
   "execution_count": 19,
   "id": "85bca046-bc10-4110-b609-03da4e6a70a8",
   "metadata": {
    "tags": []
   },
   "outputs": [],
   "source": [
    "for df in [X_train, X_test, y_train, y_test]:\n",
    "    df = df.reset_index(drop=True)"
   ]
  },
  {
   "cell_type": "code",
   "execution_count": 20,
   "id": "bf81c216",
   "metadata": {},
   "outputs": [
    {
     "name": "stdout",
     "output_type": "stream",
     "text": [
      "Imbalanced training set: \n",
      " 0    15914\n",
      "1     4500\n",
      "Name: default, dtype: int64 \n",
      "\n",
      "Balanced training set: \n",
      " 0    15914\n",
      "1    15914\n",
      "Name: default, dtype: int64\n"
     ]
    }
   ],
   "source": [
    "print (\"Imbalanced training set: \\n\", y_t.value_counts(), \"\\n\")\n",
    "print (\"Balanced training set: \\n\", y_train.value_counts())"
   ]
  },
  {
   "cell_type": "markdown",
   "id": "9412342c-ffb5-4efc-92ed-d3675f01fb23",
   "metadata": {},
   "source": [
    "By using robust scaler, we can mitigate the impact of outliers. <br>\n",
    "This does not impact the results of the model's training as the relationships between the values of the dataset are conserved."
   ]
  },
  {
   "cell_type": "code",
   "execution_count": 21,
   "id": "d92b55e6-4833-453d-8156-512e0f4a2b3a",
   "metadata": {
    "tags": []
   },
   "outputs": [
    {
     "data": {
      "text/html": [
       "<div>\n",
       "<style scoped>\n",
       "    .dataframe tbody tr th:only-of-type {\n",
       "        vertical-align: middle;\n",
       "    }\n",
       "\n",
       "    .dataframe tbody tr th {\n",
       "        vertical-align: top;\n",
       "    }\n",
       "\n",
       "    .dataframe thead th {\n",
       "        text-align: right;\n",
       "    }\n",
       "</style>\n",
       "<table border=\"1\" class=\"dataframe\">\n",
       "  <thead>\n",
       "    <tr style=\"text-align: right;\">\n",
       "      <th></th>\n",
       "      <th>limit_bal</th>\n",
       "      <th>age</th>\n",
       "      <th>male</th>\n",
       "      <th>married</th>\n",
       "      <th>grad_school</th>\n",
       "      <th>university</th>\n",
       "      <th>high_school</th>\n",
       "      <th>pay_0</th>\n",
       "      <th>pay_2</th>\n",
       "      <th>pay_3</th>\n",
       "      <th>...</th>\n",
       "      <th>bill_amt3</th>\n",
       "      <th>bill_amt4</th>\n",
       "      <th>bill_amt5</th>\n",
       "      <th>bill_amt6</th>\n",
       "      <th>pay_amt1</th>\n",
       "      <th>pay_amt2</th>\n",
       "      <th>pay_amt3</th>\n",
       "      <th>pay_amt4</th>\n",
       "      <th>pay_amt5</th>\n",
       "      <th>pay_amt6</th>\n",
       "    </tr>\n",
       "  </thead>\n",
       "  <tbody>\n",
       "    <tr>\n",
       "      <th>0</th>\n",
       "      <td>1.014057</td>\n",
       "      <td>0.284216</td>\n",
       "      <td>-0.811245</td>\n",
       "      <td>1.082724</td>\n",
       "      <td>1.330133</td>\n",
       "      <td>-0.951816</td>\n",
       "      <td>-0.442208</td>\n",
       "      <td>-0.470462</td>\n",
       "      <td>-0.401776</td>\n",
       "      <td>-0.387203</td>\n",
       "      <td>...</td>\n",
       "      <td>-0.677254</td>\n",
       "      <td>-0.671952</td>\n",
       "      <td>-0.663420</td>\n",
       "      <td>-0.653537</td>\n",
       "      <td>-0.341153</td>\n",
       "      <td>-0.265662</td>\n",
       "      <td>-0.307629</td>\n",
       "      <td>-0.255870</td>\n",
       "      <td>-0.316060</td>\n",
       "      <td>-0.293887</td>\n",
       "    </tr>\n",
       "    <tr>\n",
       "      <th>1</th>\n",
       "      <td>-0.754119</td>\n",
       "      <td>-1.349562</td>\n",
       "      <td>-0.811245</td>\n",
       "      <td>-0.923597</td>\n",
       "      <td>-0.751805</td>\n",
       "      <td>1.050623</td>\n",
       "      <td>-0.442208</td>\n",
       "      <td>-0.470462</td>\n",
       "      <td>-0.401776</td>\n",
       "      <td>-0.387203</td>\n",
       "      <td>...</td>\n",
       "      <td>-0.248524</td>\n",
       "      <td>-0.221393</td>\n",
       "      <td>-0.197682</td>\n",
       "      <td>-0.375703</td>\n",
       "      <td>-0.103201</td>\n",
       "      <td>-0.193474</td>\n",
       "      <td>-0.261494</td>\n",
       "      <td>-0.248590</td>\n",
       "      <td>-0.276529</td>\n",
       "      <td>-0.180938</td>\n",
       "    </tr>\n",
       "    <tr>\n",
       "      <th>2</th>\n",
       "      <td>-1.061628</td>\n",
       "      <td>0.828809</td>\n",
       "      <td>-0.811245</td>\n",
       "      <td>1.082724</td>\n",
       "      <td>-0.751805</td>\n",
       "      <td>-0.951816</td>\n",
       "      <td>2.261379</td>\n",
       "      <td>-0.470462</td>\n",
       "      <td>-0.401776</td>\n",
       "      <td>-0.387203</td>\n",
       "      <td>...</td>\n",
       "      <td>-0.454135</td>\n",
       "      <td>-0.433317</td>\n",
       "      <td>-0.405872</td>\n",
       "      <td>-0.402164</td>\n",
       "      <td>-0.262109</td>\n",
       "      <td>-0.202300</td>\n",
       "      <td>-0.289353</td>\n",
       "      <td>-0.293182</td>\n",
       "      <td>-0.296295</td>\n",
       "      <td>-0.193927</td>\n",
       "    </tr>\n",
       "    <tr>\n",
       "      <th>3</th>\n",
       "      <td>0.860303</td>\n",
       "      <td>0.393134</td>\n",
       "      <td>-0.811245</td>\n",
       "      <td>1.082724</td>\n",
       "      <td>1.330133</td>\n",
       "      <td>-0.951816</td>\n",
       "      <td>-0.442208</td>\n",
       "      <td>-0.470462</td>\n",
       "      <td>-0.401776</td>\n",
       "      <td>-0.387203</td>\n",
       "      <td>...</td>\n",
       "      <td>-0.675291</td>\n",
       "      <td>-0.671952</td>\n",
       "      <td>-0.663420</td>\n",
       "      <td>-0.647672</td>\n",
       "      <td>-0.355537</td>\n",
       "      <td>-0.259507</td>\n",
       "      <td>-0.307629</td>\n",
       "      <td>-0.313593</td>\n",
       "      <td>-0.293000</td>\n",
       "      <td>-0.277114</td>\n",
       "    </tr>\n",
       "    <tr>\n",
       "      <th>4</th>\n",
       "      <td>-1.061628</td>\n",
       "      <td>0.828809</td>\n",
       "      <td>-0.811245</td>\n",
       "      <td>1.082724</td>\n",
       "      <td>-0.751805</td>\n",
       "      <td>-0.951816</td>\n",
       "      <td>2.261379</td>\n",
       "      <td>0.840457</td>\n",
       "      <td>2.079589</td>\n",
       "      <td>-0.387203</td>\n",
       "      <td>...</td>\n",
       "      <td>-0.289051</td>\n",
       "      <td>-0.309293</td>\n",
       "      <td>-0.355643</td>\n",
       "      <td>-0.398209</td>\n",
       "      <td>-0.355537</td>\n",
       "      <td>-0.199222</td>\n",
       "      <td>-0.214526</td>\n",
       "      <td>-0.275176</td>\n",
       "      <td>-0.283842</td>\n",
       "      <td>-0.271975</td>\n",
       "    </tr>\n",
       "  </tbody>\n",
       "</table>\n",
       "<p>5 rows × 25 columns</p>\n",
       "</div>"
      ],
      "text/plain": [
       "   limit_bal       age      male   married  grad_school  university  \\\n",
       "0   1.014057  0.284216 -0.811245  1.082724     1.330133   -0.951816   \n",
       "1  -0.754119 -1.349562 -0.811245 -0.923597    -0.751805    1.050623   \n",
       "2  -1.061628  0.828809 -0.811245  1.082724    -0.751805   -0.951816   \n",
       "3   0.860303  0.393134 -0.811245  1.082724     1.330133   -0.951816   \n",
       "4  -1.061628  0.828809 -0.811245  1.082724    -0.751805   -0.951816   \n",
       "\n",
       "   high_school     pay_0     pay_2     pay_3  ...  bill_amt3  bill_amt4  \\\n",
       "0    -0.442208 -0.470462 -0.401776 -0.387203  ...  -0.677254  -0.671952   \n",
       "1    -0.442208 -0.470462 -0.401776 -0.387203  ...  -0.248524  -0.221393   \n",
       "2     2.261379 -0.470462 -0.401776 -0.387203  ...  -0.454135  -0.433317   \n",
       "3    -0.442208 -0.470462 -0.401776 -0.387203  ...  -0.675291  -0.671952   \n",
       "4     2.261379  0.840457  2.079589 -0.387203  ...  -0.289051  -0.309293   \n",
       "\n",
       "   bill_amt5  bill_amt6  pay_amt1  pay_amt2  pay_amt3  pay_amt4  pay_amt5  \\\n",
       "0  -0.663420  -0.653537 -0.341153 -0.265662 -0.307629 -0.255870 -0.316060   \n",
       "1  -0.197682  -0.375703 -0.103201 -0.193474 -0.261494 -0.248590 -0.276529   \n",
       "2  -0.405872  -0.402164 -0.262109 -0.202300 -0.289353 -0.293182 -0.296295   \n",
       "3  -0.663420  -0.647672 -0.355537 -0.259507 -0.307629 -0.313593 -0.293000   \n",
       "4  -0.355643  -0.398209 -0.355537 -0.199222 -0.214526 -0.275176 -0.283842   \n",
       "\n",
       "   pay_amt6  \n",
       "0 -0.293887  \n",
       "1 -0.180938  \n",
       "2 -0.193927  \n",
       "3 -0.277114  \n",
       "4 -0.271975  \n",
       "\n",
       "[5 rows x 25 columns]"
      ]
     },
     "execution_count": 21,
     "metadata": {},
     "output_type": "execute_result"
    }
   ],
   "source": [
    "X_train.head()"
   ]
  },
  {
   "cell_type": "markdown",
   "id": "910c28f8",
   "metadata": {},
   "source": [
    "##  3. Early data insights"
   ]
  },
  {
   "cell_type": "markdown",
   "id": "2e8b374a",
   "metadata": {},
   "source": [
    "### 2.1 *Top 10 features with highest impact on default outcome*"
   ]
  },
  {
   "cell_type": "code",
   "execution_count": 22,
   "id": "92fc2bde",
   "metadata": {},
   "outputs": [
    {
     "data": {
      "text/plain": [
       "pay_0        0.399031\n",
       "pay_2        0.328039\n",
       "pay_3        0.286201\n",
       "pay_4        0.267379\n",
       "pay_5        0.260932\n",
       "pay_6        0.244964\n",
       "limit_bal   -0.153576\n",
       "pay_amt1    -0.076875\n",
       "pay_amt2    -0.060498\n",
       "pay_amt4    -0.057570\n",
       "Name: default, dtype: float64"
      ]
     },
     "execution_count": 22,
     "metadata": {},
     "output_type": "execute_result"
    }
   ],
   "source": [
    "target_impact = data.corr()['default'].sort_values(ascending=False)[1:]\n",
    "target_impact_abs = data.corr()['default'].abs().sort_values(ascending=False)[1:]\n",
    "\n",
    "ft_list = []\n",
    "\n",
    "for feature_name in target_impact_abs.head(10).index:\n",
    "    ft_list.append(feature_name)\n",
    "    \n",
    "target_impact[ft_list]"
   ]
  },
  {
   "attachments": {},
   "cell_type": "markdown",
   "id": "debcd05b-c77f-4ee6-ad96-1d03e997c322",
   "metadata": {
    "tags": []
   },
   "source": [
    "#### Interpretation:\n",
    "- We can see that the features with the most impact on credit default outcome are all related to payments of the credit bills.\n",
    "- Additionally, we observe that **earlier payments should be most scrutinized** for their default prediction capability.\n",
    "- This will be a useful basis for **dimensionality reduction** in the deep learning model improvement part."
   ]
  },
  {
   "cell_type": "markdown",
   "id": "5727a382",
   "metadata": {},
   "source": [
    "### 2.2 Impact of gender on default probability"
   ]
  },
  {
   "cell_type": "code",
   "execution_count": 23,
   "id": "b57aa1ee-268f-447f-b07d-0eea593e3046",
   "metadata": {
    "tags": []
   },
   "outputs": [
    {
     "data": {
      "text/plain": [
       "22.34"
      ]
     },
     "execution_count": 23,
     "metadata": {},
     "output_type": "execute_result"
    }
   ],
   "source": [
    "# find the share of all the profiles in the dataset that have defaulted\n",
    "frac_default = len(data[data[\"default\"]==1]) / len(data)\n",
    "# this could also be found by \"np.mean(data[\"default\"]) * 100\" but the equation makes more sense\n",
    "                                                  \n",
    "data_default = round((frac_default)*100,2)\n",
    "data_default"
   ]
  },
  {
   "cell_type": "code",
   "execution_count": 24,
   "id": "80a4cac5",
   "metadata": {},
   "outputs": [],
   "source": [
    "males = data[data[\"male\"]==1]\n",
    "\n",
    "male_default = round(len(males[males[\"default\"]==1]) / len(males)*100,2)"
   ]
  },
  {
   "cell_type": "code",
   "execution_count": 25,
   "id": "f0046fc6-c54c-400d-82de-b9d8bcedb04a",
   "metadata": {
    "tags": []
   },
   "outputs": [],
   "source": [
    "females = data[data[\"male\"]==0]\n",
    "\n",
    "female_default = round(len(females[females[\"default\"]==1]) / len(females)*100,2)"
   ]
  },
  {
   "cell_type": "markdown",
   "id": "75bb47ab-8a86-441c-a9fa-a76282179da8",
   "metadata": {},
   "source": [
    "### 2.3 Impacts of marital status, education level and credit card balance limit on default probability"
   ]
  },
  {
   "cell_type": "code",
   "execution_count": 26,
   "id": "4e3b3807-d911-4163-b771-ea0b6d6204af",
   "metadata": {
    "tags": []
   },
   "outputs": [],
   "source": [
    "married = data[data[\"married\"]==1]\n",
    "\n",
    "married_default = round(len(married[married[\"default\"]==1]) / len(married)*100,2)"
   ]
  },
  {
   "cell_type": "code",
   "execution_count": 27,
   "id": "5f510242-fbf6-441a-8bf3-8e3d466265aa",
   "metadata": {
    "tags": []
   },
   "outputs": [],
   "source": [
    "hs = data[data[\"high_school\"]==1]\n",
    "\n",
    "hs_default = round(len(hs[hs[\"default\"]==1]) / len(hs)*100,2)"
   ]
  },
  {
   "cell_type": "code",
   "execution_count": 28,
   "id": "a997605d-51f8-42b2-bda1-232ae488b480",
   "metadata": {
    "tags": []
   },
   "outputs": [],
   "source": [
    "uni = data[data[\"university\"]==1]\n",
    "\n",
    "uni_default = round(len(uni[uni[\"default\"]==1]) / len(uni)*100,2)"
   ]
  },
  {
   "cell_type": "code",
   "execution_count": 29,
   "id": "6454aedd-91fa-492c-9fc8-3d96cab1f9c7",
   "metadata": {
    "tags": []
   },
   "outputs": [],
   "source": [
    "grad = data[data[\"grad_school\"]==1]\n",
    "\n",
    "grad_default = round(len(grad[grad[\"default\"]==1]) / len(grad)*100,2)"
   ]
  },
  {
   "cell_type": "markdown",
   "id": "89baa683-9d11-4945-a575-373752e47739",
   "metadata": {},
   "source": [
    "### 2.4 Results"
   ]
  },
  {
   "cell_type": "code",
   "execution_count": 30,
   "id": "11399e17-774d-492c-8a75-86daf09c6e56",
   "metadata": {
    "tags": []
   },
   "outputs": [
    {
     "data": {
      "image/png": "[encoded data removed]",
      "text/plain": [
       "<Figure size 1800x1800 with 7 Axes>"
      ]
     },
     "metadata": {},
     "output_type": "display_data"
    }
   ],
   "source": [
    "fig = plt.figure(figsize=(18,18))\n",
    "\n",
    "# first row, first column (spanning both rows)\n",
    "ax1 = plt.subplot2grid((3,3),(0,0), colspan=3)\n",
    "plt.pie([1-data_default/100, data_default/100], labels = ['Non-default', 'Default'], autopct=\"%.2f%%\")\n",
    "plt.title(\"Share of clients in the dataset who defaulted on their loan\")\n",
    "\n",
    "# Second row first column\n",
    "ax1 = plt.subplot2grid((3,3), (1, 0))\n",
    "plt.pie([1-male_default/100, male_default/100], labels = ['Non-default', 'Default'], autopct=\"%.2f%%\")\n",
    "plt.title(\"Share of men who defaulted on their loan\")\n",
    "\n",
    "# Second row second column\n",
    "ax1 = plt.subplot2grid((3,3), (1, 1))\n",
    "plt.pie([1-female_default/100, female_default/100], labels = ['Non-default', 'Default'], autopct=\"%.2f%%\")\n",
    "plt.title(\"Share of women who defaulted on their credit\")\n",
    "\n",
    "# Second row third column\n",
    "ax1 = plt.subplot2grid((3,3), (1,2))\n",
    "plt.pie([1-married_default/100, married_default/100], labels = ['Non-default', 'Default'], autopct=\"%.2f%%\")\n",
    "plt.title(\"Share of married people who defaulted on their credit\")\n",
    "\n",
    "# Third row first column\n",
    "ax1 = plt.subplot2grid((3,3), (2,0))\n",
    "plt.pie([1-hs_default/100, hs_default/100], labels = ['Non-default', 'Default'], autopct=\"%.2f%%\")\n",
    "plt.title(\"Share of people with high-school level education \\n who defaulted on their credit\")\n",
    "\n",
    "\n",
    "# Third row second column\n",
    "ax1 = plt.subplot2grid((3,3), (2,1))\n",
    "plt.pie([1-uni_default/100, uni_default/100], labels = ['Non-default', 'Default'], autopct=\"%.2f%%\")\n",
    "plt.title(\"Share of people with university level education \\n who defaulted on their credit\")\n",
    "\n",
    "# Third row third column\n",
    "ax1 = plt.subplot2grid((3,3), (2,2))\n",
    "plt.pie([1-grad_default/100, grad_default/100], labels = ['Non-default', 'Default'], autopct=\"%.2f%%\")\n",
    "plt.title(\"Share of people with grad-school level education \\n who defaulted on their credit\")\n",
    "\n",
    "\n",
    "plt.tight_layout()\n",
    "plt.show()"
   ]
  },
  {
   "cell_type": "markdown",
   "id": "ae8f1b50-29dd-44fa-8dde-53d6234e342e",
   "metadata": {},
   "source": [
    "#### Interpretation:\n",
    "- We can see that in our data, **the \"benchmark\" share of default is 22.34%**. This is the value that we will compare other groups' default rates to.\n",
    "\n",
    "1. Gender\n",
    "    - Here we can see that 24.34% of male clients have defaulted on their credit card balances. This represents a 2 percentage points increase from the benchmark.\n",
    "    - In contrast, 21.02% of women have defaulted or a decrease of 1.32 percentage points from the benchmark.\n",
    "    - From the perspective of a bank, this means that **extending credit to men is riskier than to women by 3.32 percentage points**. This could be useful to calculate credit card APR or benchmarks for credit scores.\n",
    "\n",
    "<br>\n",
    "\n",
    "2. Marital status\n",
    "    - From our analysis, the fact of a client being married brings an **1.41 percentage points increase** in their probability of having defaulted.\n",
    "\n",
    "<br>\n",
    "\n",
    "3. Education level\n",
    "    - We can observe the following impacts from maximum education level attained <br>\n",
    "    - *High School*: **2.94 percentage points increase** in probability of having defaulted\n",
    "    - *University*: **1.38 percentage points increase**\n",
    "    - *Graduate School*: **3.13 percentage points decrease**\n",
    "    "
   ]
  },
  {
   "cell_type": "markdown",
   "id": "b1418b87",
   "metadata": {},
   "source": [
    "## 4. Machine learning models"
   ]
  },
  {
   "cell_type": "markdown",
   "id": "1a8efb2e",
   "metadata": {},
   "source": [
    "### Basic Logistic Regression"
   ]
  },
  {
   "cell_type": "code",
   "execution_count": 31,
   "id": "fed2a79f",
   "metadata": {},
   "outputs": [
    {
     "name": "stdout",
     "output_type": "stream",
     "text": [
      "F1 score: 0.4591011548665708 \n",
      "Accuracy score: 0.81323538348444\n"
     ]
    }
   ],
   "source": [
    "model = LogisticRegression()\n",
    "\n",
    "model.fit(X_train, y_train)\n",
    "\n",
    "cv_result = cross_validate(model, X_test, y_test, scoring = ['f1', 'accuracy'])\n",
    "\n",
    "f1 = cv_result['test_f1'].mean()\n",
    "acc = cv_result['test_accuracy'].mean()\n",
    "\n",
    "print ('F1 score: {} \\nAccuracy score: {}'.format(f1,acc))"
   ]
  },
  {
   "cell_type": "markdown",
   "id": "7ae03d5c",
   "metadata": {},
   "source": [
    "### Recurrent Neural Network"
   ]
  },
  {
   "cell_type": "code",
   "execution_count": 32,
   "id": "ea50a2ee",
   "metadata": {},
   "outputs": [],
   "source": [
    "def make_model(X, y, neurons=40, optimizer=\"adam\", l_rate=0.001):\n",
    "    \n",
    "    # initializing\n",
    "    \n",
    "    model = Sequential([\n",
    "        \n",
    "\n",
    "        Dense(60, activation=\"relu\"),\n",
    "        Dropout(0.5),\n",
    "        \n",
    "      \n",
    "        Dense(200, activation=\"relu\"),\n",
    "        Dropout(0.5),\n",
    "\n",
    "        \n",
    "      \n",
    "        Dense(1, activation=\"sigmoid\")\n",
    "        ])\n",
    "        \n",
    "    # compiling\n",
    "        \n",
    "    if optimizer==\"adam\":\n",
    "        opt = tf.keras.optimizers.Adam(learning_rate=l_rate)\n",
    "    elif optimizer == \"rmsprop\":\n",
    "        opt = tf.keras.optimizers.RMSprop(learning_rate=l_rate)\n",
    "    model.compile(loss=\"binary_crossentropy\",\n",
    "                 optimizer=opt,\n",
    "                 metrics=[\"accuracy\"])\n",
    "   \n",
    "        \n",
    "    # fitting\n",
    "        \n",
    "    es = EarlyStopping(restore_best_weights=True, patience = 4, monitor=\"loss\")  \n",
    "    model.fit(X, y,\n",
    "             epochs = 10,\n",
    "             callbacks = es,\n",
    "             batch_size = 32,\n",
    "             verbose=1)\n",
    "    \n",
    "    return model"
   ]
  },
  {
   "cell_type": "code",
   "execution_count": 33,
   "id": "587b2b78",
   "metadata": {},
   "outputs": [
    {
     "name": "stdout",
     "output_type": "stream",
     "text": [
      "Metal device set to: Apple M1\n",
      "\n",
      "systemMemory: 8.00 GB\n",
      "maxCacheSize: 2.67 GB\n",
      "\n"
     ]
    },
    {
     "name": "stderr",
     "output_type": "stream",
     "text": [
      "2023-03-12 21:47:53.960303: I tensorflow/core/common_runtime/pluggable_device/pluggable_device_factory.cc:305] Could not identify NUMA node of platform GPU ID 0, defaulting to 0. Your kernel may not have been built with NUMA support.\n",
      "2023-03-12 21:47:53.962453: I tensorflow/core/common_runtime/pluggable_device/pluggable_device_factory.cc:271] Created TensorFlow device (/job:localhost/replica:0/task:0/device:GPU:0 with 0 MB memory) -> physical PluggableDevice (device: 0, name: METAL, pci bus id: <undefined>)\n",
      "2023-03-12 21:47:54.184396: W tensorflow/core/platform/profile_utils/cpu_utils.cc:128] Failed to get CPU frequency: 0 Hz\n"
     ]
    },
    {
     "name": "stdout",
     "output_type": "stream",
     "text": [
      "Epoch 1/10\n"
     ]
    },
    {
     "name": "stderr",
     "output_type": "stream",
     "text": [
      "2023-03-12 21:47:54.460030: I tensorflow/core/grappler/optimizers/custom_graph_optimizer_registry.cc:113] Plugin optimizer for device_type GPU is enabled.\n"
     ]
    },
    {
     "name": "stdout",
     "output_type": "stream",
     "text": [
      "995/995 [==============================] - 7s 6ms/step - loss: 0.6002 - accuracy: 0.6893\n",
      "Epoch 2/10\n",
      "995/995 [==============================] - 7s 7ms/step - loss: 0.5753 - accuracy: 0.7053\n",
      "Epoch 3/10\n",
      "995/995 [==============================] - 6s 6ms/step - loss: 0.5680 - accuracy: 0.7066\n",
      "Epoch 4/10\n",
      "995/995 [==============================] - 6s 6ms/step - loss: 0.5632 - accuracy: 0.7099\n",
      "Epoch 5/10\n",
      "995/995 [==============================] - 6s 6ms/step - loss: 0.5614 - accuracy: 0.7094\n",
      "Epoch 6/10\n",
      "995/995 [==============================] - 7s 7ms/step - loss: 0.5588 - accuracy: 0.7124\n",
      "Epoch 7/10\n",
      "995/995 [==============================] - 6s 6ms/step - loss: 0.5579 - accuracy: 0.7108\n",
      "Epoch 8/10\n",
      "995/995 [==============================] - 6s 6ms/step - loss: 0.5549 - accuracy: 0.7127\n",
      "Epoch 9/10\n",
      "995/995 [==============================] - 6s 6ms/step - loss: 0.5556 - accuracy: 0.7108\n",
      "Epoch 10/10\n",
      "995/995 [==============================] - 6s 6ms/step - loss: 0.5535 - accuracy: 0.7138\n"
     ]
    }
   ],
   "source": [
    "model = make_model(X_train, y_train)"
   ]
  },
  {
   "attachments": {},
   "cell_type": "markdown",
   "id": "5422a94b",
   "metadata": {},
   "source": [
    "### Results\n",
    "We get accuracy of 82% with the Logistic Regression and 71% with our Recurrent Neural Network.\n",
    "Next, we will look at how modifying the dataset can help improve our models."
   ]
  },
  {
   "cell_type": "markdown",
   "id": "4e42654f",
   "metadata": {},
   "source": []
  }
 ],
 "metadata": {
  "kernelspec": {
   "display_name": "Python 3 (ipykernel)",
   "language": "python",
   "name": "python3"
  },
  "language_info": {
   "codemirror_mode": {
    "name": "ipython",
    "version": 3
   },
   "file_extension": ".py",
   "mimetype": "text/x-python",
   "name": "python",
   "nbconvert_exporter": "python",
   "pygments_lexer": "ipython3",
   "version": "3.10.8"
  },
  "toc": {
   "base_numbering": 1,
   "nav_menu": {},
   "number_sections": true,
   "sideBar": true,
   "skip_h1_title": false,
   "title_cell": "Table of Contents",
   "title_sidebar": "Contents",
   "toc_cell": false,
   "toc_position": {},
   "toc_section_display": true,
   "toc_window_display": false
  }
 },
 "nbformat": 4,
 "nbformat_minor": 5
}
